{
 "cells": [
  {
   "cell_type": "markdown",
   "metadata": {},
   "source": [
    "# AO-CHILDES Data\n",
    "\n",
    "Just a little script to look at the data in the [AO-CHILDES corpus](https://github.com/UIUCLearningLanguageLab/AOCHILDES)."
   ]
  },
  {
   "cell_type": "code",
   "execution_count": 10,
   "metadata": {},
   "outputs": [
    {
     "name": "stdout",
     "output_type": "stream",
     "text": [
      "Looking for transcripts in /Users/zebulongoriely/opt/anaconda3/envs/mosaic/lib/python3.8/site-packages/aochildes/original_transcripts\n",
      "Utterances before dropping rows: 1,379,962\n",
      "Utterances after  dropping rows: 1,202,539\n"
     ]
    }
   ],
   "source": [
    "# import AO-CHILDES and extract some data\n",
    "from aochildes.pipeline import Pipeline\n",
    "from aochildes.params import ChildesParams\n",
    "from aochildes.dataset import ChildesDataSet\n",
    "\n",
    "params = ChildesParams(bad_speaker_roles=[]) # Change default parameters to allow child utterances\n",
    "pipeline = Pipeline(params)"
   ]
  },
  {
   "cell_type": "markdown",
   "metadata": {},
   "source": []
  },
  {
   "cell_type": "code",
   "execution_count": 16,
   "metadata": {},
   "outputs": [
    {
     "data": {
      "text/html": [
       "<div>\n",
       "<style scoped>\n",
       "    .dataframe tbody tr th:only-of-type {\n",
       "        vertical-align: middle;\n",
       "    }\n",
       "\n",
       "    .dataframe tbody tr th {\n",
       "        vertical-align: top;\n",
       "    }\n",
       "\n",
       "    .dataframe thead th {\n",
       "        text-align: right;\n",
       "    }\n",
       "</style>\n",
       "<table border=\"1\" class=\"dataframe\">\n",
       "  <thead>\n",
       "    <tr style=\"text-align: right;\">\n",
       "      <th></th>\n",
       "      <th>transcript_id</th>\n",
       "      <th>gloss</th>\n",
       "      <th>num_tokens</th>\n",
       "      <th>speaker_role</th>\n",
       "      <th>target_child_age</th>\n",
       "      <th>target_child_sex</th>\n",
       "      <th>type</th>\n",
       "      <th>collection_name</th>\n",
       "    </tr>\n",
       "    <tr>\n",
       "      <th>id</th>\n",
       "      <th></th>\n",
       "      <th></th>\n",
       "      <th></th>\n",
       "      <th></th>\n",
       "      <th></th>\n",
       "      <th></th>\n",
       "      <th></th>\n",
       "      <th></th>\n",
       "    </tr>\n",
       "  </thead>\n",
       "  <tbody>\n",
       "    <tr>\n",
       "      <th>3052485</th>\n",
       "      <td>6973</td>\n",
       "      <td>what's that</td>\n",
       "      <td>2</td>\n",
       "      <td>Mother</td>\n",
       "      <td>NaN</td>\n",
       "      <td>NaN</td>\n",
       "      <td>question</td>\n",
       "      <td>Eng-NA</td>\n",
       "    </tr>\n",
       "    <tr>\n",
       "      <th>3052495</th>\n",
       "      <td>6973</td>\n",
       "      <td>yyy</td>\n",
       "      <td>1</td>\n",
       "      <td>Child</td>\n",
       "      <td>NaN</td>\n",
       "      <td>NaN</td>\n",
       "      <td>declarative</td>\n",
       "      <td>Eng-NA</td>\n",
       "    </tr>\n",
       "    <tr>\n",
       "      <th>3052502</th>\n",
       "      <td>6973</td>\n",
       "      <td>it's a chicken</td>\n",
       "      <td>3</td>\n",
       "      <td>Mother</td>\n",
       "      <td>NaN</td>\n",
       "      <td>NaN</td>\n",
       "      <td>declarative</td>\n",
       "      <td>Eng-NA</td>\n",
       "    </tr>\n",
       "    <tr>\n",
       "      <th>3052519</th>\n",
       "      <td>6973</td>\n",
       "      <td>yeah</td>\n",
       "      <td>1</td>\n",
       "      <td>Child</td>\n",
       "      <td>NaN</td>\n",
       "      <td>NaN</td>\n",
       "      <td>declarative</td>\n",
       "      <td>Eng-NA</td>\n",
       "    </tr>\n",
       "    <tr>\n",
       "      <th>3052529</th>\n",
       "      <td>6973</td>\n",
       "      <td>yeah</td>\n",
       "      <td>1</td>\n",
       "      <td>Mother</td>\n",
       "      <td>NaN</td>\n",
       "      <td>NaN</td>\n",
       "      <td>declarative</td>\n",
       "      <td>Eng-NA</td>\n",
       "    </tr>\n",
       "    <tr>\n",
       "      <th>...</th>\n",
       "      <td>...</td>\n",
       "      <td>...</td>\n",
       "      <td>...</td>\n",
       "      <td>...</td>\n",
       "      <td>...</td>\n",
       "      <td>...</td>\n",
       "      <td>...</td>\n",
       "      <td>...</td>\n",
       "    </tr>\n",
       "    <tr>\n",
       "      <th>3310535</th>\n",
       "      <td>7409</td>\n",
       "      <td>okay</td>\n",
       "      <td>1</td>\n",
       "      <td>Investigator</td>\n",
       "      <td>1694.0625</td>\n",
       "      <td>NaN</td>\n",
       "      <td>declarative</td>\n",
       "      <td>Eng-NA</td>\n",
       "    </tr>\n",
       "    <tr>\n",
       "      <th>3310575</th>\n",
       "      <td>7409</td>\n",
       "      <td>okay</td>\n",
       "      <td>1</td>\n",
       "      <td>Investigator</td>\n",
       "      <td>1694.0625</td>\n",
       "      <td>NaN</td>\n",
       "      <td>declarative</td>\n",
       "      <td>Eng-NA</td>\n",
       "    </tr>\n",
       "    <tr>\n",
       "      <th>3310618</th>\n",
       "      <td>7409</td>\n",
       "      <td>um hm</td>\n",
       "      <td>2</td>\n",
       "      <td>Investigator</td>\n",
       "      <td>1694.0625</td>\n",
       "      <td>NaN</td>\n",
       "      <td>declarative</td>\n",
       "      <td>Eng-NA</td>\n",
       "    </tr>\n",
       "    <tr>\n",
       "      <th>3310651</th>\n",
       "      <td>7409</td>\n",
       "      <td>oh no</td>\n",
       "      <td>2</td>\n",
       "      <td>Investigator</td>\n",
       "      <td>1694.0625</td>\n",
       "      <td>NaN</td>\n",
       "      <td>declarative</td>\n",
       "      <td>Eng-NA</td>\n",
       "    </tr>\n",
       "    <tr>\n",
       "      <th>3310687</th>\n",
       "      <td>7409</td>\n",
       "      <td>huh he shot</td>\n",
       "      <td>3</td>\n",
       "      <td>Investigator</td>\n",
       "      <td>1694.0625</td>\n",
       "      <td>NaN</td>\n",
       "      <td>declarative</td>\n",
       "      <td>Eng-NA</td>\n",
       "    </tr>\n",
       "  </tbody>\n",
       "</table>\n",
       "<p>1202539 rows × 8 columns</p>\n",
       "</div>"
      ],
      "text/plain": [
       "         transcript_id           gloss  num_tokens  speaker_role  \\\n",
       "id                                                                 \n",
       "3052485           6973     what's that           2        Mother   \n",
       "3052495           6973             yyy           1         Child   \n",
       "3052502           6973  it's a chicken           3        Mother   \n",
       "3052519           6973            yeah           1         Child   \n",
       "3052529           6973            yeah           1        Mother   \n",
       "...                ...             ...         ...           ...   \n",
       "3310535           7409            okay           1  Investigator   \n",
       "3310575           7409            okay           1  Investigator   \n",
       "3310618           7409           um hm           2  Investigator   \n",
       "3310651           7409           oh no           2  Investigator   \n",
       "3310687           7409     huh he shot           3  Investigator   \n",
       "\n",
       "         target_child_age target_child_sex         type collection_name  \n",
       "id                                                                       \n",
       "3052485               NaN              NaN     question          Eng-NA  \n",
       "3052495               NaN              NaN  declarative          Eng-NA  \n",
       "3052502               NaN              NaN  declarative          Eng-NA  \n",
       "3052519               NaN              NaN  declarative          Eng-NA  \n",
       "3052529               NaN              NaN  declarative          Eng-NA  \n",
       "...                   ...              ...          ...             ...  \n",
       "3310535         1694.0625              NaN  declarative          Eng-NA  \n",
       "3310575         1694.0625              NaN  declarative          Eng-NA  \n",
       "3310618         1694.0625              NaN  declarative          Eng-NA  \n",
       "3310651         1694.0625              NaN  declarative          Eng-NA  \n",
       "3310687         1694.0625              NaN  declarative          Eng-NA  \n",
       "\n",
       "[1202539 rows x 8 columns]"
      ]
     },
     "execution_count": 16,
     "metadata": {},
     "output_type": "execute_result"
    }
   ],
   "source": [
    "# Brief overview of what the pipeline stores\n",
    "pipeline.df"
   ]
  },
  {
   "cell_type": "code",
   "execution_count": 33,
   "metadata": {},
   "outputs": [
    {
     "data": {
      "text/plain": [
       "Index(['Adult', 'Aunt', 'Babysitter', 'Brother', 'Camera_Operator',\n",
       "       'Clinician', 'Cousin', 'Doctor', 'Environment', 'Family_Friend',\n",
       "       'Father', 'Grandfather', 'Grandmother', 'Housekeeper', 'Investigator',\n",
       "       'Mother', 'Non_Human', 'Nurse', 'Observer', 'Participant', 'Playmate',\n",
       "       'Sibling', 'Sister', 'Student', 'Teacher', 'Teenager', 'Toy', 'Uncle',\n",
       "       'Unidentified', 'Visitor'],\n",
       "      dtype='object', name='speaker_role')"
      ]
     },
     "execution_count": 33,
     "metadata": {},
     "output_type": "execute_result"
    }
   ],
   "source": [
    "# Different speaker roles\n",
    "speakers = pipeline.df.groupby(\"speaker_role\").size()\n",
    "speakers"
   ]
  },
  {
   "cell_type": "code",
   "execution_count": 39,
   "metadata": {},
   "outputs": [
    {
     "name": "stdout",
     "output_type": "stream",
     "text": [
      "Looking for transcripts in /Users/zebulongoriely/opt/anaconda3/envs/mosaic/lib/python3.8/site-packages/aochildes/original_transcripts\n",
      "Utterances before dropping rows: 1,379,962\n",
      "Utterances after  dropping rows:   20,987\n",
      "Looking for transcripts in /Users/zebulongoriely/opt/anaconda3/envs/mosaic/lib/python3.8/site-packages/aochildes/original_transcripts\n",
      "Utterances before dropping rows: 1,379,962\n",
      "Utterances after  dropping rows:  927,184\n",
      "Preparing AOCHILDES transcripts...\n",
      "Warning: No valid output stream.\n",
      "Preparing AOCHILDES transcripts...\n",
      "Warning: No valid output stream.\n"
     ]
    }
   ],
   "source": [
    "# Let's extract all child and adult utterances for children between ages 1 and 3 \n",
    "child_utterances_pipeline = Pipeline(ChildesParams(max_days=365*3, bad_speaker_roles=list(speakers.keys().drop(\"Child\"))))\n",
    "adult_utterances_pipeline = Pipeline(ChildesParams(max_days=365*3))\n",
    "child_transcripts = child_utterances_pipeline.load_age_ordered_transcripts()\n",
    "adult_transcripts = adult_utterances_pipeline.load_age_ordered_transcripts()"
   ]
  },
  {
   "cell_type": "code",
   "execution_count": 44,
   "metadata": {},
   "outputs": [
    {
     "name": "stdout",
     "output_type": "stream",
     "text": [
      "497.0 ntuu ? n down ? night night . night night .\n",
      "91.3125 just like your book at home . do you want to look at that it says look . see . there's a face with glasses . aha . look there's pooh bear . there's a baby bear with his bottle . who's that . is that child . aha i think i see child . there he is . there he is . yeah yeah there he is . you see yourself . that's my pretty baby boy . i'm sorry that's handsome baby boy . you like that . yeah . look there's a bunny rabbit . see . there's kitty cat . oh . kitty cat . and who's this it's a baby . it's a baby . yeah . want to look at that . oh . does it fit your mouth . let's see what else there is in here . there's a . a pink pig . oink . you like that book it's very red . red is a good thing isn't it . oink . oink . oink . oink . oink . oink . you want your book back don't you . let's see do you want to see who this is . this is big bird . enough with that . can you read your book again you like the book . look . see . you want to see if it fits in your mouth . is that what you want to see . oh that's too big . what do you know . you want to hold it like that . whoop . here . there's baby bear with his bottle . see baby bear . yeah see baby bear . and then who's this . who's that . who's picture is that do you see yourself in the mirror . that's child . still want to see if it fits in your mouth . oh what do you think . does it fit nice . that's such a pretty red . it's red like your socks . and red like your the edging on your outfit and all those other things . yeah . look here's something else i know you like at home can you look at this one . you just love that book . that is so much fun the way that fits in your mouth . do you see cookie monster over there . is that who you are looking at . that fits in your mouth oh that's just great . that's just great . it fits in your mouth . hey can we try this . i'm going to put your hand on this . you can grab this this is pretty neat because you can grab it just right . there you got it . good job . you want this back in your hand . you want it in this hand maybe . let's open your fingers a little bit . can i help you by opening your fingers . there . you got it . you got it . oh you got it . good for you . you want it to make noise . there are some beautiful colors in here aren't there . that is so neat the way it does that . you want it back . oh you got it you got it . yeah child . do you like sitting up in that seat that's pretty neat . you're almost there . you got it . here . yeah . oh . is that so fun . you want to catch it . catch it catch it . you got it . yeah . i like the sound that makes i think you like it too . you got it . we have one of those at home for you too if we could just keep that two year old sister of yours from running off with it . you better learn to hang on to your toys real well . or she'll get them . you'll have to tackle her and get them away from her . what you doing . oh did it run away from you . you got it . is that fun . is that a fun toy . what's that . oh dear . oh dear that's so messy . so messy . yes all that drool i just don't know . mm . aha you like that . aha . aha . aha . aha . oh what baby . you not sure about that . would you like to sit up a little bit more . that's kind of a funny thing to sit in isn't it . you like that better .\n"
     ]
    }
   ],
   "source": [
    "# First child and adult transcript\n",
    "print(child_transcripts[0].age, child_transcripts[0].text)\n",
    "print(adult_transcripts[0].age, adult_transcripts[0].text)"
   ]
  }
 ],
 "metadata": {
  "interpreter": {
   "hash": "b134bb7019429f0bf86baf4f83ddc22e8d21367f2bf9cee4fb73e03a21f509b7"
  },
  "kernelspec": {
   "display_name": "Python 3.9.7 64-bit ('mosaic': conda)",
   "language": "python",
   "name": "python3"
  },
  "language_info": {
   "codemirror_mode": {
    "name": "ipython",
    "version": 3
   },
   "file_extension": ".py",
   "mimetype": "text/x-python",
   "name": "python",
   "nbconvert_exporter": "python",
   "pygments_lexer": "ipython3",
   "version": "3.9.7"
  },
  "orig_nbformat": 4
 },
 "nbformat": 4,
 "nbformat_minor": 2
}
