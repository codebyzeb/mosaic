{
 "cells": [
  {
   "cell_type": "markdown",
   "metadata": {},
   "source": [
    "# MOSAIC Toy Examples"
   ]
  },
  {
   "cell_type": "code",
   "execution_count": 2,
   "metadata": {},
   "outputs": [],
   "source": [
    "import sys, random\n",
    "sys.path.insert(0, \"../mosaic\")\n",
    "import mosaic"
   ]
  },
  {
   "cell_type": "code",
   "execution_count": 3,
   "metadata": {},
   "outputs": [
    {
     "name": "stdout",
     "output_type": "stream",
     "text": [
      "adding primitive node:  go\n"
     ]
    },
    {
     "ename": "AttributeError",
     "evalue": "'WordNetwork' object has no attribute 'make_generative_links_2'",
     "output_type": "error",
     "traceback": [
      "\u001b[0;31m---------------------------------------------------------------------------\u001b[0m",
      "\u001b[0;31mAttributeError\u001b[0m                            Traceback (most recent call last)",
      "Input \u001b[0;32mIn [3]\u001b[0m, in \u001b[0;36m<module>\u001b[0;34m\u001b[0m\n\u001b[1;32m      2\u001b[0m w \u001b[38;5;241m=\u001b[39m mosaic\u001b[38;5;241m.\u001b[39mWordNetwork(verbose\u001b[38;5;241m=\u001b[39m\u001b[38;5;28;01mTrue\u001b[39;00m, calculate_ncp\u001b[38;5;241m=\u001b[39m\u001b[38;5;28;01mFalse\u001b[39;00m)\n\u001b[1;32m      3\u001b[0m \u001b[38;5;28;01mfor\u001b[39;00m i \u001b[38;5;129;01min\u001b[39;00m \u001b[38;5;28mrange\u001b[39m(\u001b[38;5;241m5\u001b[39m):\n\u001b[0;32m----> 4\u001b[0m     \u001b[43mw\u001b[49m\u001b[38;5;241;43m.\u001b[39;49m\u001b[43mprocess_utterances\u001b[49m\u001b[43m(\u001b[49m\u001b[43m[\u001b[49m\u001b[43m[\u001b[49m\u001b[38;5;124;43m\"\u001b[39;49m\u001b[38;5;124;43mdid\u001b[39;49m\u001b[38;5;124;43m\"\u001b[39;49m\u001b[43m,\u001b[49m\u001b[43m \u001b[49m\u001b[38;5;124;43m\"\u001b[39;49m\u001b[38;5;124;43mhe\u001b[39;49m\u001b[38;5;124;43m\"\u001b[39;49m\u001b[43m,\u001b[49m\u001b[43m \u001b[49m\u001b[38;5;124;43m\"\u001b[39;49m\u001b[38;5;124;43mgo\u001b[39;49m\u001b[38;5;124;43m\"\u001b[39;49m\u001b[43m]\u001b[49m\u001b[43m]\u001b[49m\u001b[43m)\u001b[49m\n\u001b[1;32m      5\u001b[0m w\u001b[38;5;241m.\u001b[39mvisualise()\n",
      "File \u001b[0;32m~/Documents/UniDocs/PHD/projects/MOSAIC/mosaic/examples/../mosaic/mosaic.py:133\u001b[0m, in \u001b[0;36mWordNetwork.process_utterances\u001b[0;34m(self, utterances)\u001b[0m\n\u001b[1;32m    130\u001b[0m             \u001b[38;5;28;01mbreak\u001b[39;00m\n\u001b[1;32m    132\u001b[0m     \u001b[38;5;28mself\u001b[39m\u001b[38;5;241m.\u001b[39mnum_utterances_seen \u001b[38;5;241m+\u001b[39m\u001b[38;5;241m=\u001b[39m \u001b[38;5;241m1\u001b[39m\n\u001b[0;32m--> 133\u001b[0m \u001b[38;5;28;43mself\u001b[39;49m\u001b[38;5;241;43m.\u001b[39;49m\u001b[43mmake_generative_links_2\u001b[49m()\n",
      "\u001b[0;31mAttributeError\u001b[0m: 'WordNetwork' object has no attribute 'make_generative_links_2'"
     ]
    }
   ],
   "source": [
    "# Let's add \"did he go\" to the network five times\n",
    "w = mosaic.WordNetwork(verbose=True, calculate_ncp=False)\n",
    "for i in range(5):\n",
    "    w.process_utterances([[\"did\", \"he\", \"go\"]])\n",
    "w.visualise()"
   ]
  },
  {
   "cell_type": "code",
   "execution_count": null,
   "metadata": {},
   "outputs": [
    {
     "name": "stdout",
     "output_type": "stream",
     "text": [
      "adding primitive node:  walks\n",
      "adding phrase: ['he', 'walks']\n",
      "{'walks': 0, 'go': 1, 'did': 2}\n",
      "he\n",
      "{0, 1}\n",
      "2\n",
      "he\n",
      "{1, 2}\n",
      "2\n"
     ]
    },
    {
     "name": "stderr",
     "output_type": "stream",
     "text": [
      "Processing Nodes...: 100%|██████████| 2/2 [00:00<00:00, 27324.46it/s]\n"
     ]
    },
    {
     "name": "stdout",
     "output_type": "stream",
     "text": [
      "Number of nodes: 9\n",
      "Number of phrases: 5\n",
      "Mean phrase length: 1.8\n",
      "Maximum phrase length: 3\n",
      "Number of generative links: 2\n"
     ]
    },
    {
     "data": {
      "image/png": "[encoded data removed]",
      "text/plain": [
       "<Figure size 432x288 with 1 Axes>"
      ]
     },
     "metadata": {},
     "output_type": "display_data"
    }
   ],
   "source": [
    "# Let's add \"he walks\" twice\n",
    "w.process_utterances([[\"he\", \"walks\"], [\"he\", \"walks\"]])\n",
    "w.print_stats()\n",
    "w.visualise()\n"
   ]
  },
  {
   "cell_type": "code",
   "execution_count": null,
   "metadata": {},
   "outputs": [
    {
     "name": "stdout",
     "output_type": "stream",
     "text": [
      "adding primitive node:  runs\n",
      "adding primitive node:  she\n",
      "adding primitive node:  sings\n",
      "{}\n"
     ]
    },
    {
     "name": "stderr",
     "output_type": "stream",
     "text": [
      "Processing Nodes...: 0it [00:00, ?it/s]\n"
     ]
    },
    {
     "name": "stdout",
     "output_type": "stream",
     "text": [
      "adding primitive node:  he\n",
      "adding phrase: ['she', 'runs']\n",
      "adding phrase: ['he', 'sings']\n",
      "{}\n"
     ]
    },
    {
     "name": "stderr",
     "output_type": "stream",
     "text": [
      "Processing Nodes...: 0it [00:00, ?it/s]\n"
     ]
    },
    {
     "name": "stdout",
     "output_type": "stream",
     "text": [
      "adding phrase: ['he', 'runs']\n",
      "{'runs': 0, 'sings': 1}\n",
      "he\n",
      "{0, 1}\n",
      "2\n"
     ]
    },
    {
     "name": "stderr",
     "output_type": "stream",
     "text": [
      "Processing Nodes...: 100%|██████████| 1/1 [00:00<00:00, 10591.68it/s]\n"
     ]
    },
    {
     "name": "stdout",
     "output_type": "stream",
     "text": [
      "{'runs': 0, 'sings': 1}\n",
      "he\n",
      "{0, 1}\n",
      "2\n"
     ]
    },
    {
     "name": "stderr",
     "output_type": "stream",
     "text": [
      "Processing Nodes...: 100%|██████████| 1/1 [00:00<00:00, 19972.88it/s]\n"
     ]
    },
    {
     "name": "stdout",
     "output_type": "stream",
     "text": [
      "{'runs': 0, 'sings': 1}\n",
      "he\n",
      "{0, 1}\n",
      "2\n"
     ]
    },
    {
     "name": "stderr",
     "output_type": "stream",
     "text": [
      "Processing Nodes...: 100%|██████████| 1/1 [00:00<00:00, 24966.10it/s]"
     ]
    },
    {
     "name": "stdout",
     "output_type": "stream",
     "text": [
      "Number of nodes: 8\n",
      "Number of phrases: 5\n",
      "Mean phrase length: 1.6\n",
      "Maximum phrase length: 2\n",
      "Number of generative links: 0\n"
     ]
    },
    {
     "name": "stderr",
     "output_type": "stream",
     "text": [
      "\n"
     ]
    },
    {
     "data": {
      "image/png": "[encoded data removed]",
      "text/plain": [
       "<Figure size 432x288 with 1 Axes>"
      ]
     },
     "metadata": {},
     "output_type": "display_data"
    }
   ],
   "source": [
    "# Let's show some generative links\n",
    "w = mosaic.WordNetwork(verbose=True, calculate_ncp=False)\n",
    "for i in range(5):\n",
    "    w.process_utterances([[\"he\", \"runs\"],[\"she\", \"runs\"], [\"he\", \"sings\"]])\n",
    "w.visualise()\n",
    "w.print_stats()"
   ]
  },
  {
   "cell_type": "code",
   "execution_count": null,
   "metadata": {},
   "outputs": [
    {
     "name": "stdout",
     "output_type": "stream",
     "text": [
      "ROOT []\n",
      "runs []\n",
      "she []\n",
      "runs []\n",
      "sings []\n",
      "he []\n",
      "sings []\n",
      "runs []\n"
     ]
    }
   ],
   "source": [
    "for n in w.root.get_all_nodes():\n",
    "    print(n.phrase, [c.phrase for c in n.generative_links])"
   ]
  },
  {
   "cell_type": "markdown",
   "metadata": {},
   "source": [
    "## Testing on Dominic CHILDES corpus"
   ]
  },
  {
   "cell_type": "code",
   "execution_count": null,
   "metadata": {},
   "outputs": [
    {
     "name": "stdout",
     "output_type": "stream",
     "text": [
      "Number of utterances: 652741\n"
     ]
    }
   ],
   "source": [
    "from dataset import DataSet\n",
    "\n",
    "data = DataSet(\"../data/corpora/Manchester/Dominic_adult.txt\")\n",
    "print(\"Number of utterances:\", data.size)"
   ]
  },
  {
   "cell_type": "markdown",
   "metadata": {},
   "source": [
    "Running with node creation probability set to 1:"
   ]
  },
  {
   "cell_type": "code",
   "execution_count": null,
   "metadata": {},
   "outputs": [],
   "source": [
    "#network = mosaic.WordNetwork(verbose=False, calculate_ncp=False)\n",
    "#network.process_utterances(data.utterances)\n",
    "#network.print_stats()"
   ]
  },
  {
   "cell_type": "markdown",
   "metadata": {},
   "source": [
    "Running with node creation probability calculated:"
   ]
  },
  {
   "cell_type": "code",
   "execution_count": 1,
   "metadata": {},
   "outputs": [
    {
     "ename": "ModuleNotFoundError",
     "evalue": "No module named 'dataset'",
     "output_type": "error",
     "traceback": [
      "\u001b[0;31m---------------------------------------------------------------------------\u001b[0m",
      "\u001b[0;31mModuleNotFoundError\u001b[0m                       Traceback (most recent call last)",
      "Input \u001b[0;32mIn [1]\u001b[0m, in \u001b[0;36m<module>\u001b[0;34m\u001b[0m\n\u001b[0;32m----> 1\u001b[0m \u001b[38;5;28;01mfrom\u001b[39;00m \u001b[38;5;21;01mdataset\u001b[39;00m \u001b[38;5;28;01mimport\u001b[39;00m DataSet\n\u001b[1;32m      3\u001b[0m data \u001b[38;5;241m=\u001b[39m DataSet(\u001b[38;5;124m\"\u001b[39m\u001b[38;5;124mdata/corpora/aochildes_under3_adult.txt\u001b[39m\u001b[38;5;124m\"\u001b[39m)\n\u001b[1;32m      4\u001b[0m \u001b[38;5;28mprint\u001b[39m(\u001b[38;5;124m\"\u001b[39m\u001b[38;5;124mNumber of utterances:\u001b[39m\u001b[38;5;124m\"\u001b[39m, data\u001b[38;5;241m.\u001b[39msize)\n",
      "\u001b[0;31mModuleNotFoundError\u001b[0m: No module named 'dataset'"
     ]
    }
   ],
   "source": [
    "data = DataSet(\"data/corpora/aochildes_under3_adult.txt\")\n",
    "print(\"Number of utterances:\", data.size)\n",
    "random.seed(0)\n",
    "network = mosaic.WordNetwork(verbose=False, calculate_ncp=True, corpus_size=data.size, m=20)\n",
    "for i in range(30):\n",
    "    if i > 15:\n",
    "        print(\"Iteration:\",i)\n",
    "    network.process_utterances(data.utterances)\n",
    "    if i > 15:\n",
    "        network.print_stats()\n",
    "        print()\n"
   ]
  },
  {
   "cell_type": "code",
   "execution_count": null,
   "metadata": {},
   "outputs": [],
   "source": []
  }
 ],
 "metadata": {
  "interpreter": {
   "hash": "b134bb7019429f0bf86baf4f83ddc22e8d21367f2bf9cee4fb73e03a21f509b7"
  },
  "kernelspec": {
   "display_name": "Python 3.9.7 64-bit ('mosaic': conda)",
   "language": "python",
   "name": "python3"
  },
  "language_info": {
   "codemirror_mode": {
    "name": "ipython",
    "version": 3
   },
   "file_extension": ".py",
   "mimetype": "text/x-python",
   "name": "python",
   "nbconvert_exporter": "python",
   "pygments_lexer": "ipython3",
   "version": "3.8.12"
  },
  "orig_nbformat": 4
 },
 "nbformat": 4,
 "nbformat_minor": 2
}
